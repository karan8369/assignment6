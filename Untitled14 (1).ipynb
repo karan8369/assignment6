{
 "cells": [
  {
   "cell_type": "code",
   "execution_count": 12,
   "id": "147afe59",
   "metadata": {},
   "outputs": [
    {
     "name": "stdout",
     "output_type": "stream",
     "text": [
      "Name: John Doe, DOB: 1990-05-15, Height: 175, City: New York, State: NY\n",
      "Name: Jane Smith, DOB: 1988-08-25, Height: 160, City: Los Angeles, State: CA\n",
      "Name: Bob Johnson, DOB: 1995-02-10, Height: 182, City: Chicago, State: IL\n",
      "Name: Alice Williams, DOB: 1992-11-30, Height: 168, City: Houston, State: TX\n",
      "Name: Mike Brown, DOB: 1985-04-03, Height: 178, City: Miami, State: FL\n",
      "Maharashtra: Mumbai\n",
      "Tamil Nadu: Chennai\n",
      "Karnataka: Bengaluru\n",
      "Delhi: New Delhi\n",
      "West Bengal: Kolkata\n",
      "Gujarat: Gandhinagar\n",
      "Rajasthan: Jaipur\n"
     ]
    }
   ],
   "source": [
    "import json\n",
    "\n",
    "class Employee:\n",
    "    def __init__(self, name, dob, height, city, state):\n",
    "        self.name = name\n",
    "        self.dob = dob\n",
    "        self.height = height\n",
    "        self.city = city\n",
    "        self.state = state\n",
    "employee_data = [\n",
    "    {\"name\": \"John Doe\", \"dob\": \"1990-05-15\", \"height\": 175, \"city\": \"New York\", \"state\": \"NY\"},\n",
    "    {\"name\": \"Jane Smith\", \"dob\": \"1988-08-25\", \"height\": 160, \"city\": \"Los Angeles\", \"state\": \"CA\"},\n",
    "    {\"name\": \"Bob Johnson\", \"dob\": \"1995-02-10\", \"height\": 182, \"city\": \"Chicago\", \"state\": \"IL\"},\n",
    "    {\"name\": \"Alice Williams\", \"dob\": \"1992-11-30\", \"height\": 168, \"city\": \"Houston\", \"state\": \"TX\"},\n",
    "    {\"name\": \"Mike Brown\", \"dob\": \"1985-04-03\", \"height\": 178, \"city\": \"Miami\", \"state\": \"FL\"}\n",
    "]\n",
    "with open(\"employee.json\", \"w\") as json_file:\n",
    "    json.dump(employee_data, json_file, indent=2)\n",
    "with open(\"employee.json\", \"r\") as json_file:\n",
    "    employees_json = json.load(json_file)  \n",
    "employees_list = [Employee(**employee) for employee in employees_json]\n",
    "for employee in employees_list:\n",
    "    print(f\"Name: {employee.name}, DOB: {employee.dob}, Height: {employee.height}, City: {employee.city}, State: {employee.state}\")\n",
    "indian_states_capitals = {\n",
    "    \"Maharashtra\": \"Mumbai\",\n",
    "    \"Tamil Nadu\": \"Chennai\",\n",
    "    \"Karnataka\": \"Bengaluru\",\n",
    "    \"Delhi\": \"New Delhi\",\n",
    "    \"West Bengal\": \"Kolkata\",\n",
    "    \"Gujarat\": \"Gandhinagar\",\n",
    "    \"Rajasthan\": \"Jaipur\"\n",
    "}\n",
    "with open(\"states_capitals.json\", \"w\") as json_file:\n",
    "    json.dump(indian_states_capitals, json_file, indent=2)\n",
    "import json\n",
    "with open(\"states_capitals.json\", \"r\") as json_file:\n",
    "    indian_states_capitals = json.load(json_file)\n",
    "for state, capital in indian_states_capitals.items():\n",
    "    print(f\"{state}: {capital}\")    "
   ]
  },
  {
   "cell_type": "code",
   "execution_count": 11,
   "id": "152e84dd",
   "metadata": {},
   "outputs": [
    {
     "name": "stdout",
     "output_type": "stream",
     "text": [
      "Buddy is 3 years old.\n",
      "Buddy's coat color is Brown.\n",
      "Rusty is 2 years old.\n",
      "Rusty's coat color is White and Brown.\n",
      "Rusty is playing fetch.\n",
      "Rusty is training for agility.\n",
      "Bella is 4 years old.\n",
      "Bella's coat color is Fawn.\n",
      "Bella is snoring loudly.\n",
      "Bella has adorable wrinkles.\n"
     ]
    }
   ],
   "source": [
    "\n",
    "class Dog:\n",
    "    def __init__(self, name, age, coat_color):\n",
    "        self.name = name\n",
    "        self.age = age\n",
    "        self.coat_color = coat_color\n",
    "\n",
    "    def description(self):\n",
    "        print(f\"{self.name} is {self.age} years old.\")\n",
    "\n",
    "    def get_info(self):\n",
    "        print(f\"{self.name}'s coat color is {self.coat_color}.\")\n",
    "\n",
    "class JackRussellTerrier(Dog):\n",
    "    def play_fetch(self):\n",
    "        print(f\"{self.name} is playing fetch.\")\n",
    "\n",
    "    def agility_training(self):\n",
    "        print(f\"{self.name} is training for agility.\")\n",
    "\n",
    "class Bulldog(Dog):\n",
    "    def snore(self):\n",
    "        print(f\"{self.name} is snoring loudly.\")\n",
    "\n",
    "    def wrinkles(self):\n",
    "        print(f\"{self.name} has adorable wrinkles.\")\n",
    "dog_instance = Dog(\"Buddy\", 3, \"Brown\")\n",
    "jack_russell_instance = JackRussellTerrier(\"Rusty\", 2, \"White and Brown\")\n",
    "bulldog_instance = Bulldog(\"Bella\", 4, \"Fawn\")\n",
    "\n",
    "dog_instance.description()\n",
    "dog_instance.get_info()\n",
    "\n",
    "jack_russell_instance.description()\n",
    "jack_russell_instance.get_info()\n",
    "jack_russell_instance.play_fetch()\n",
    "jack_russell_instance.agility_training()\n",
    "\n",
    "bulldog_instance.description()\n",
    "bulldog_instance.get_info()\n",
    "bulldog_instance.snore()\n",
    "bulldog_instance.wrinkles()"
   ]
  },
  {
   "cell_type": "code",
   "execution_count": null,
   "id": "163ba7da",
   "metadata": {},
   "outputs": [],
   "source": []
  }
 ],
 "metadata": {
  "kernelspec": {
   "display_name": "Python 3 (ipykernel)",
   "language": "python",
   "name": "python3"
  },
  "language_info": {
   "codemirror_mode": {
    "name": "ipython",
    "version": 3
   },
   "file_extension": ".py",
   "mimetype": "text/x-python",
   "name": "python",
   "nbconvert_exporter": "python",
   "pygments_lexer": "ipython3",
   "version": "3.10.9"
  }
 },
 "nbformat": 4,
 "nbformat_minor": 5
}
